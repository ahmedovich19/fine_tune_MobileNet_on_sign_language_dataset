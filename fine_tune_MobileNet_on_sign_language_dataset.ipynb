{
  "cells": [
    {
      "cell_type": "code",
      "execution_count": 1,
      "metadata": {
        "colab": {
          "base_uri": "https://localhost:8080/"
        },
        "id": "MblPgoauYu8x",
        "outputId": "16d38de9-2f2a-4dcd-d0e0-88946a71668e"
      },
      "outputs": [
        {
          "output_type": "stream",
          "name": "stdout",
          "text": [
            "Mounted at /content/drive\n"
          ]
        }
      ],
      "source": [
        "from google.colab import drive\n",
        "drive.mount('/content/drive',force_remount=True)"
      ]
    },
    {
      "cell_type": "code",
      "execution_count": 2,
      "metadata": {
        "colab": {
          "base_uri": "https://localhost:8080/"
        },
        "id": "XttwF5p38Mah",
        "outputId": "d84e996e-f61a-47d7-99b7-30e8aa293533"
      },
      "outputs": [
        {
          "output_type": "stream",
          "name": "stdout",
          "text": [
            "Collecting wget\n",
            "  Downloading wget-3.2.zip (10 kB)\n",
            "  Preparing metadata (setup.py) ... \u001b[?25l\u001b[?25hdone\n",
            "Building wheels for collected packages: wget\n",
            "  Building wheel for wget (setup.py) ... \u001b[?25l\u001b[?25hdone\n",
            "  Created wheel for wget: filename=wget-3.2-py3-none-any.whl size=9655 sha256=9f87267dfb35b3f091566392d54d533383acbf76fba206ddbf5b1f87508ff130\n",
            "  Stored in directory: /root/.cache/pip/wheels/8b/f1/7f/5c94f0a7a505ca1c81cd1d9208ae2064675d97582078e6c769\n",
            "Successfully built wget\n",
            "Installing collected packages: wget\n",
            "Successfully installed wget-3.2\n"
          ]
        }
      ],
      "source": [
        "!pip install wget"
      ]
    },
    {
      "cell_type": "code",
      "execution_count": 3,
      "metadata": {
        "id": "ItNMAnkodGlW"
      },
      "outputs": [],
      "source": [
        "import numpy as np\n",
        "import tensorflow as tf\n",
        "from tensorflow import keras\n",
        "from tensorflow.keras.layers import Dense,Activation\n",
        "from tensorflow.keras.optimizers import Adam\n",
        "from tensorflow.keras.metrics import categorical_crossentropy\n",
        "from tensorflow.keras.preprocessing.image import ImageDataGenerator\n",
        "from tensorflow.keras.preprocessing import image\n",
        "from tensorflow.keras.models import Model\n",
        "from tensorflow.keras.applications import imagenet_utils\n",
        "from sklearn.metrics import confusion_matrix\n",
        "import itertools\n",
        "import os\n",
        "import sys\n",
        "import shutil\n",
        "import random\n",
        "import matplotlib.pyplot as plt\n",
        "import zipfile\n",
        "import wget\n",
        "%matplotlib inline"
      ]
    },
    {
      "cell_type": "code",
      "execution_count": 4,
      "metadata": {
        "colab": {
          "base_uri": "https://localhost:8080/"
        },
        "id": "yL-DpQ3QZMZZ",
        "outputId": "e752baf2-28ae-4920-d2be-7d509ba0fa44"
      },
      "outputs": [
        {
          "output_type": "stream",
          "name": "stdout",
          "text": [
            "['dlib.ipynb', 'calculate_the_vehicle_speed_using_opencv.ipynb', 'car_plate_recognation_using_opencv.ipynb', 'text_and_number_detection_by_using_pytesseract_ocr.ipynb', 'Mouse_Event_line_example.ipynb', 'image_Histograms_and_contrast_stretching_using_opencv.ipynb', 'eye_motion_detection_and_tracking_using_opencv.ipynb', 'face_mesh_in_video_using_mediapipe.ipynb', 'text_recognation_from_image_by_using_pytesseract_ocr.ipynb', 'segmentation_by_using_otsu_binarization.ipynb', 'image_blending_using_pyramid.ipynb', 'draw_contours_in_opencv.ipynb', 'thresholding_with_matplotlib.ipynb', 'Show_Date_and_Time_on_Videos_using_OpenCV_Python.ipynb', 'harris_corner_detector_in_python.ipynb', 'change_image_color_with_trackbar_opencv.ipynb', 'make_object_detection_using_HSV_color_space.ipynb', 'SIFT_example_using_opencv.ipynb', 'calculate_the_vehicle_speed_using_opencv (1).ipynb', 'Read_Write_Show_Videos_from_Camera_in_OpenCV.ipynb', 'Handle_Mouse_Events_in_OpenCV.ipynb', 'blob_detection_usin_opencv.ipynb', 'smoothing_images_using_averaging_gblur_median_bilateralFilter_opencv.ipynb', 'Face_Detection_using_Haar_Cascade_classifiers.ipynb', 'object_tracking_using_HSV_color_space.ipynb', 'read and write an image in openCV.ipynb', 'fast_corner_detection_using_opencv.ipynb', 'people_tracking_using_opencv.ipynb', 'change_image_color_with_thresholding.ipynb', 'image_editing_using_Gaussian_ans_Laplacian_pyramid.ipynb', 'ORB_oriented_fast_and_roatated_brief.ipynb', 'Setting_Camera_Parameters_in_OpenCV_Python.ipynb', 'image_gradients_and_edge_detection_using_laplacian.ipynb', 'bitwise_operations.ipynb', 'change_image_color_with_mean_gaussian_c.ipynb', 'image_classification_with_mobile_net_with_tensorflow_keras_api.ipynb', 'Draw_geometric_shapes_on_images_using_Python_OpenCV.ipynb', 'car_plate_recognation_using_opencv (1).ipynb', 'detect_track_count_car_and_moto_using_opencv.ipynb', 'eye_detection_using_opencv.ipynb', 'Create_Graphics_using_opencv.ipynb', 'HOG_on_pedestrians_using_open_cv.ipynb', 'Morphological_Transformations_in_opencv.ipynb', 'edge_detection_using_sobel_x_sobel_y.ipynb', 'mask_detection_using_mobileNetv2.ipynb', 'Detect_simple_Geometric_shapes_using_opencv.ipynb', 'Detect_pedstrains_in_video_using_HOG_opencv.ipynb', 'mouse_event_color_zooming.ipynb', 'make_convex_hull_and_contours_using_opencv.ipynb', 'files', 'images', 'videos', 'add_two_images_change_the_ball_place.ipynb', 'face_detection_using_dlib_landmarks_opencv.ipynb', 'face_mesh_image_using_mediapipe.ipynb', 'fine_tune_MobileNet_on_sign_language_dataset.ipynb']\n"
          ]
        }
      ],
      "source": [
        "GOOGLE_DRIVE_PATH_AFTER_MYDRIVE = 'Colab Notebooks/computer-vision-implementations'\n",
        "GOOGLE_DRIVE_PATH = os.path.join(\"drive\", \"My Drive\", GOOGLE_DRIVE_PATH_AFTER_MYDRIVE)\n",
        "print(os.listdir(GOOGLE_DRIVE_PATH))\n",
        "\n",
        "\n",
        "# Add to sys so we can import .py files.\n",
        "sys.path.append(GOOGLE_DRIVE_PATH)"
      ]
    },
    {
      "cell_type": "code",
      "execution_count": 5,
      "metadata": {
        "id": "D1zDkLzQxXGR"
      },
      "outputs": [],
      "source": [
        "data_set_path = GOOGLE_DRIVE_PATH +'/files/'"
      ]
    },
    {
      "cell_type": "code",
      "execution_count": 6,
      "metadata": {
        "id": "TBCgiQHbdNoy"
      },
      "outputs": [],
      "source": [
        "#wget -P data_set_path https://github.com/ardamavi/Sign-Language-Digits-Dataset/archive/refs/heads/master.zip"
      ]
    },
    {
      "cell_type": "code",
      "execution_count": 7,
      "metadata": {
        "id": "9NRfwThl7uDw"
      },
      "outputs": [],
      "source": [
        "if not os.path.exists(data_set_path+'/Dataset'):\n",
        "    url = 'https://github.com/ardamavi/Sign-Language-Digits-Dataset/archive/refs/heads/master.zip'\n",
        "    filename = wget.download(url)\n",
        "    with zipfile.ZipFile('Sign-Language-Digits-Dataset-master.zip') as zf:\n",
        "        zf.extractall(data_set_path)\n",
        "    os.remove('Sign-Language-Digits-Dataset-master.zip')\n",
        "    shutil.move(data_set_path+f'Sign-Language-Digits-Dataset-master/Dataset',data_set_path)\n",
        "    shutil.rmtree(data_set_path+f'/Sign-Language-Digits-Dataset-master')"
      ]
    },
    {
      "cell_type": "code",
      "execution_count": 8,
      "metadata": {
        "id": "bTN2oOXD0guQ",
        "colab": {
          "base_uri": "https://localhost:8080/"
        },
        "outputId": "7575f118-1593-4eab-efe1-c921cf684e98"
      },
      "outputs": [
        {
          "output_type": "stream",
          "name": "stdout",
          "text": [
            "['0', '1', '2', '3', '4', '5', '6', '7', '8', '9']\n"
          ]
        }
      ],
      "source": [
        "print(os.listdir(data_set_path+'/Dataset'))"
      ]
    },
    {
      "cell_type": "code",
      "execution_count": 9,
      "metadata": {
        "id": "O4m3kWHK7uDx"
      },
      "outputs": [],
      "source": [
        "if os.path.exists(data_set_path+'Dataset/train/0/') is False:\n",
        "    if not os.path.exists(data_set_path+'Dataset/train'):\n",
        "        os.mkdir(data_set_path+'Dataset/train')\n",
        "    if not os.path.exists(data_set_path+'Dataset/test'):\n",
        "      os.mkdir(data_set_path+'Dataset/test')\n",
        "    if not os.path.exists(data_set_path+'Dataset/valid'):\n",
        "      os.mkdir(data_set_path+'Dataset/valid')\n",
        "\n",
        "    for i in range(0,10):\n",
        "        shutil.move(data_set_path+f'Dataset/{i}',data_set_path+'Dataset/train')\n",
        "        os.mkdir(data_set_path+f'Dataset/valid/{i}')\n",
        "        os.mkdir(data_set_path+f'Dataset/test/{i}')\n",
        "        valid_samples = random.sample(os.listdir(data_set_path+f'Dataset/train/{i}'),30)\n",
        "        for j in valid_samples:\n",
        "            shutil.move(data_set_path+f'Dataset/train/{i}/{j}',data_set_path+f'Dataset/valid/{i}')\n",
        "        test_samples = random.sample(os.listdir(data_set_path+f'Dataset/train/{i}'),5)\n",
        "        for k in test_samples:\n",
        "            shutil.move(data_set_path+f'Dataset/train/{i}/{k}',data_set_path+f'Dataset/test/{i}')\n"
      ]
    },
    {
      "cell_type": "code",
      "execution_count": 10,
      "metadata": {
        "id": "yZ83oOCOtjEz",
        "colab": {
          "base_uri": "https://localhost:8080/"
        },
        "outputId": "661d6bc4-f2c2-4075-80b7-aaddf6168e95"
      },
      "outputs": [
        {
          "output_type": "stream",
          "name": "stdout",
          "text": [
            "['0', '1', '2', '3', '4', '5', '6', '7', '8', '9']\n"
          ]
        }
      ],
      "source": [
        "print(os.listdir(data_set_path+'Dataset/valid'))"
      ]
    },
    {
      "cell_type": "code",
      "execution_count": 11,
      "metadata": {
        "id": "OwvK5Yg-7uDy",
        "colab": {
          "base_uri": "https://localhost:8080/"
        },
        "outputId": "6bfa2480-1a2e-48a4-a8f8-d1ef40a37c83"
      },
      "outputs": [
        {
          "output_type": "stream",
          "name": "stdout",
          "text": [
            "Found 1712 images belonging to 10 classes.\n",
            "Found 300 images belonging to 10 classes.\n",
            "Found 50 images belonging to 10 classes.\n"
          ]
        }
      ],
      "source": [
        "train_path = data_set_path+'Dataset/train'\n",
        "valid_path = data_set_path+'Dataset/valid'\n",
        "test_path = data_set_path+'Dataset/test'\n",
        "\n",
        "train_batches = ImageDataGenerator(preprocessing_function=tf.keras.applications.mobilenet.preprocess_input).flow_from_directory(\n",
        "    directory = train_path,target_size=(224,224),batch_size=10\n",
        ")\n",
        "\n",
        "valid_batches = ImageDataGenerator(preprocessing_function=tf.keras.applications.mobilenet.preprocess_input).flow_from_directory(\n",
        "    directory = valid_path,target_size=(224,224),batch_size=10\n",
        ")\n",
        "\n",
        "test_batches = ImageDataGenerator(preprocessing_function=tf.keras.applications.mobilenet.preprocess_input).flow_from_directory(\n",
        "    directory = test_path,target_size=(224,224),batch_size=10,shuffle=False\n",
        ")"
      ]
    },
    {
      "cell_type": "code",
      "execution_count": 12,
      "metadata": {
        "id": "iWjXQ-jtAoIm",
        "colab": {
          "base_uri": "https://localhost:8080/"
        },
        "outputId": "fa5d3981-ad31-44c2-f978-284dcf362b9a"
      },
      "outputs": [
        {
          "output_type": "stream",
          "name": "stdout",
          "text": [
            "Downloading data from https://storage.googleapis.com/tensorflow/keras-applications/mobilenet/mobilenet_1_0_224_tf.h5\n",
            "17225924/17225924 [==============================] - 0s 0us/step\n",
            "Model: \"mobilenet_1.00_224\"\n",
            "_________________________________________________________________\n",
            " Layer (type)                Output Shape              Param #   \n",
            "=================================================================\n",
            " input_1 (InputLayer)        [(None, 224, 224, 3)]     0         \n",
            "                                                                 \n",
            " conv1 (Conv2D)              (None, 112, 112, 32)      864       \n",
            "                                                                 \n",
            " conv1_bn (BatchNormalizati  (None, 112, 112, 32)      128       \n",
            " on)                                                             \n",
            "                                                                 \n",
            " conv1_relu (ReLU)           (None, 112, 112, 32)      0         \n",
            "                                                                 \n",
            " conv_dw_1 (DepthwiseConv2D  (None, 112, 112, 32)      288       \n",
            " )                                                               \n",
            "                                                                 \n",
            " conv_dw_1_bn (BatchNormali  (None, 112, 112, 32)      128       \n",
            " zation)                                                         \n",
            "                                                                 \n",
            " conv_dw_1_relu (ReLU)       (None, 112, 112, 32)      0         \n",
            "                                                                 \n",
            " conv_pw_1 (Conv2D)          (None, 112, 112, 64)      2048      \n",
            "                                                                 \n",
            " conv_pw_1_bn (BatchNormali  (None, 112, 112, 64)      256       \n",
            " zation)                                                         \n",
            "                                                                 \n",
            " conv_pw_1_relu (ReLU)       (None, 112, 112, 64)      0         \n",
            "                                                                 \n",
            " conv_pad_2 (ZeroPadding2D)  (None, 113, 113, 64)      0         \n",
            "                                                                 \n",
            " conv_dw_2 (DepthwiseConv2D  (None, 56, 56, 64)        576       \n",
            " )                                                               \n",
            "                                                                 \n",
            " conv_dw_2_bn (BatchNormali  (None, 56, 56, 64)        256       \n",
            " zation)                                                         \n",
            "                                                                 \n",
            " conv_dw_2_relu (ReLU)       (None, 56, 56, 64)        0         \n",
            "                                                                 \n",
            " conv_pw_2 (Conv2D)          (None, 56, 56, 128)       8192      \n",
            "                                                                 \n",
            " conv_pw_2_bn (BatchNormali  (None, 56, 56, 128)       512       \n",
            " zation)                                                         \n",
            "                                                                 \n",
            " conv_pw_2_relu (ReLU)       (None, 56, 56, 128)       0         \n",
            "                                                                 \n",
            " conv_dw_3 (DepthwiseConv2D  (None, 56, 56, 128)       1152      \n",
            " )                                                               \n",
            "                                                                 \n",
            " conv_dw_3_bn (BatchNormali  (None, 56, 56, 128)       512       \n",
            " zation)                                                         \n",
            "                                                                 \n",
            " conv_dw_3_relu (ReLU)       (None, 56, 56, 128)       0         \n",
            "                                                                 \n",
            " conv_pw_3 (Conv2D)          (None, 56, 56, 128)       16384     \n",
            "                                                                 \n",
            " conv_pw_3_bn (BatchNormali  (None, 56, 56, 128)       512       \n",
            " zation)                                                         \n",
            "                                                                 \n",
            " conv_pw_3_relu (ReLU)       (None, 56, 56, 128)       0         \n",
            "                                                                 \n",
            " conv_pad_4 (ZeroPadding2D)  (None, 57, 57, 128)       0         \n",
            "                                                                 \n",
            " conv_dw_4 (DepthwiseConv2D  (None, 28, 28, 128)       1152      \n",
            " )                                                               \n",
            "                                                                 \n",
            " conv_dw_4_bn (BatchNormali  (None, 28, 28, 128)       512       \n",
            " zation)                                                         \n",
            "                                                                 \n",
            " conv_dw_4_relu (ReLU)       (None, 28, 28, 128)       0         \n",
            "                                                                 \n",
            " conv_pw_4 (Conv2D)          (None, 28, 28, 256)       32768     \n",
            "                                                                 \n",
            " conv_pw_4_bn (BatchNormali  (None, 28, 28, 256)       1024      \n",
            " zation)                                                         \n",
            "                                                                 \n",
            " conv_pw_4_relu (ReLU)       (None, 28, 28, 256)       0         \n",
            "                                                                 \n",
            " conv_dw_5 (DepthwiseConv2D  (None, 28, 28, 256)       2304      \n",
            " )                                                               \n",
            "                                                                 \n",
            " conv_dw_5_bn (BatchNormali  (None, 28, 28, 256)       1024      \n",
            " zation)                                                         \n",
            "                                                                 \n",
            " conv_dw_5_relu (ReLU)       (None, 28, 28, 256)       0         \n",
            "                                                                 \n",
            " conv_pw_5 (Conv2D)          (None, 28, 28, 256)       65536     \n",
            "                                                                 \n",
            " conv_pw_5_bn (BatchNormali  (None, 28, 28, 256)       1024      \n",
            " zation)                                                         \n",
            "                                                                 \n",
            " conv_pw_5_relu (ReLU)       (None, 28, 28, 256)       0         \n",
            "                                                                 \n",
            " conv_pad_6 (ZeroPadding2D)  (None, 29, 29, 256)       0         \n",
            "                                                                 \n",
            " conv_dw_6 (DepthwiseConv2D  (None, 14, 14, 256)       2304      \n",
            " )                                                               \n",
            "                                                                 \n",
            " conv_dw_6_bn (BatchNormali  (None, 14, 14, 256)       1024      \n",
            " zation)                                                         \n",
            "                                                                 \n",
            " conv_dw_6_relu (ReLU)       (None, 14, 14, 256)       0         \n",
            "                                                                 \n",
            " conv_pw_6 (Conv2D)          (None, 14, 14, 512)       131072    \n",
            "                                                                 \n",
            " conv_pw_6_bn (BatchNormali  (None, 14, 14, 512)       2048      \n",
            " zation)                                                         \n",
            "                                                                 \n",
            " conv_pw_6_relu (ReLU)       (None, 14, 14, 512)       0         \n",
            "                                                                 \n",
            " conv_dw_7 (DepthwiseConv2D  (None, 14, 14, 512)       4608      \n",
            " )                                                               \n",
            "                                                                 \n",
            " conv_dw_7_bn (BatchNormali  (None, 14, 14, 512)       2048      \n",
            " zation)                                                         \n",
            "                                                                 \n",
            " conv_dw_7_relu (ReLU)       (None, 14, 14, 512)       0         \n",
            "                                                                 \n",
            " conv_pw_7 (Conv2D)          (None, 14, 14, 512)       262144    \n",
            "                                                                 \n",
            " conv_pw_7_bn (BatchNormali  (None, 14, 14, 512)       2048      \n",
            " zation)                                                         \n",
            "                                                                 \n",
            " conv_pw_7_relu (ReLU)       (None, 14, 14, 512)       0         \n",
            "                                                                 \n",
            " conv_dw_8 (DepthwiseConv2D  (None, 14, 14, 512)       4608      \n",
            " )                                                               \n",
            "                                                                 \n",
            " conv_dw_8_bn (BatchNormali  (None, 14, 14, 512)       2048      \n",
            " zation)                                                         \n",
            "                                                                 \n",
            " conv_dw_8_relu (ReLU)       (None, 14, 14, 512)       0         \n",
            "                                                                 \n",
            " conv_pw_8 (Conv2D)          (None, 14, 14, 512)       262144    \n",
            "                                                                 \n",
            " conv_pw_8_bn (BatchNormali  (None, 14, 14, 512)       2048      \n",
            " zation)                                                         \n",
            "                                                                 \n",
            " conv_pw_8_relu (ReLU)       (None, 14, 14, 512)       0         \n",
            "                                                                 \n",
            " conv_dw_9 (DepthwiseConv2D  (None, 14, 14, 512)       4608      \n",
            " )                                                               \n",
            "                                                                 \n",
            " conv_dw_9_bn (BatchNormali  (None, 14, 14, 512)       2048      \n",
            " zation)                                                         \n",
            "                                                                 \n",
            " conv_dw_9_relu (ReLU)       (None, 14, 14, 512)       0         \n",
            "                                                                 \n",
            " conv_pw_9 (Conv2D)          (None, 14, 14, 512)       262144    \n",
            "                                                                 \n",
            " conv_pw_9_bn (BatchNormali  (None, 14, 14, 512)       2048      \n",
            " zation)                                                         \n",
            "                                                                 \n",
            " conv_pw_9_relu (ReLU)       (None, 14, 14, 512)       0         \n",
            "                                                                 \n",
            " conv_dw_10 (DepthwiseConv2  (None, 14, 14, 512)       4608      \n",
            " D)                                                              \n",
            "                                                                 \n",
            " conv_dw_10_bn (BatchNormal  (None, 14, 14, 512)       2048      \n",
            " ization)                                                        \n",
            "                                                                 \n",
            " conv_dw_10_relu (ReLU)      (None, 14, 14, 512)       0         \n",
            "                                                                 \n",
            " conv_pw_10 (Conv2D)         (None, 14, 14, 512)       262144    \n",
            "                                                                 \n",
            " conv_pw_10_bn (BatchNormal  (None, 14, 14, 512)       2048      \n",
            " ization)                                                        \n",
            "                                                                 \n",
            " conv_pw_10_relu (ReLU)      (None, 14, 14, 512)       0         \n",
            "                                                                 \n",
            " conv_dw_11 (DepthwiseConv2  (None, 14, 14, 512)       4608      \n",
            " D)                                                              \n",
            "                                                                 \n",
            " conv_dw_11_bn (BatchNormal  (None, 14, 14, 512)       2048      \n",
            " ization)                                                        \n",
            "                                                                 \n",
            " conv_dw_11_relu (ReLU)      (None, 14, 14, 512)       0         \n",
            "                                                                 \n",
            " conv_pw_11 (Conv2D)         (None, 14, 14, 512)       262144    \n",
            "                                                                 \n",
            " conv_pw_11_bn (BatchNormal  (None, 14, 14, 512)       2048      \n",
            " ization)                                                        \n",
            "                                                                 \n",
            " conv_pw_11_relu (ReLU)      (None, 14, 14, 512)       0         \n",
            "                                                                 \n",
            " conv_pad_12 (ZeroPadding2D  (None, 15, 15, 512)       0         \n",
            " )                                                               \n",
            "                                                                 \n",
            " conv_dw_12 (DepthwiseConv2  (None, 7, 7, 512)         4608      \n",
            " D)                                                              \n",
            "                                                                 \n",
            " conv_dw_12_bn (BatchNormal  (None, 7, 7, 512)         2048      \n",
            " ization)                                                        \n",
            "                                                                 \n",
            " conv_dw_12_relu (ReLU)      (None, 7, 7, 512)         0         \n",
            "                                                                 \n",
            " conv_pw_12 (Conv2D)         (None, 7, 7, 1024)        524288    \n",
            "                                                                 \n",
            " conv_pw_12_bn (BatchNormal  (None, 7, 7, 1024)        4096      \n",
            " ization)                                                        \n",
            "                                                                 \n",
            " conv_pw_12_relu (ReLU)      (None, 7, 7, 1024)        0         \n",
            "                                                                 \n",
            " conv_dw_13 (DepthwiseConv2  (None, 7, 7, 1024)        9216      \n",
            " D)                                                              \n",
            "                                                                 \n",
            " conv_dw_13_bn (BatchNormal  (None, 7, 7, 1024)        4096      \n",
            " ization)                                                        \n",
            "                                                                 \n",
            " conv_dw_13_relu (ReLU)      (None, 7, 7, 1024)        0         \n",
            "                                                                 \n",
            " conv_pw_13 (Conv2D)         (None, 7, 7, 1024)        1048576   \n",
            "                                                                 \n",
            " conv_pw_13_bn (BatchNormal  (None, 7, 7, 1024)        4096      \n",
            " ization)                                                        \n",
            "                                                                 \n",
            " conv_pw_13_relu (ReLU)      (None, 7, 7, 1024)        0         \n",
            "                                                                 \n",
            " global_average_pooling2d (  (None, 1, 1, 1024)        0         \n",
            " GlobalAveragePooling2D)                                         \n",
            "                                                                 \n",
            " dropout (Dropout)           (None, 1, 1, 1024)        0         \n",
            "                                                                 \n",
            " conv_preds (Conv2D)         (None, 1, 1, 1000)        1025000   \n",
            "                                                                 \n",
            " reshape_2 (Reshape)         (None, 1000)              0         \n",
            "                                                                 \n",
            " predictions (Activation)    (None, 1000)              0         \n",
            "                                                                 \n",
            "=================================================================\n",
            "Total params: 4253864 (16.23 MB)\n",
            "Trainable params: 4231976 (16.14 MB)\n",
            "Non-trainable params: 21888 (85.50 KB)\n",
            "_________________________________________________________________\n"
          ]
        }
      ],
      "source": [
        "mobile =tf.keras.applications.mobilenet.MobileNet()\n",
        "mobile.summary()"
      ]
    },
    {
      "cell_type": "code",
      "execution_count": 13,
      "metadata": {
        "id": "ithBCn4M3WIi",
        "colab": {
          "base_uri": "https://localhost:8080/"
        },
        "outputId": "9fc074f7-ccf9-4b43-aade-3c89f689b4ce"
      },
      "outputs": [
        {
          "output_type": "execute_result",
          "data": {
            "text/plain": [
              "<KerasTensor: shape=(None, 1024) dtype=float32 (created by layer 'flatten')>"
            ]
          },
          "metadata": {},
          "execution_count": 13
        }
      ],
      "source": [
        "x = mobile.layers[-5].output\n",
        "\n",
        "#model.add(Reshape((1, 1, -1)))\n",
        "#x = tf.keras.layers.Flatten()(x)\n",
        "#(None, 1, 1, 1024)\n",
        "#tf.keras.layers.Reshape((-1,1024))(x)\n",
        "#tf.reshape(x, [-1,1024])\n",
        "#x=tf.reshape(x, (-1,1024))\n",
        "\n",
        "x = tf.keras.layers.Flatten()(x)\n",
        "x"
      ]
    },
    {
      "cell_type": "code",
      "execution_count": 14,
      "metadata": {
        "id": "ReTTU7Eq0ikW",
        "colab": {
          "base_uri": "https://localhost:8080/"
        },
        "outputId": "571bd4c3-e8e7-4c6b-bd32-ac42ed45e451"
      },
      "outputs": [
        {
          "output_type": "execute_result",
          "data": {
            "text/plain": [
              "TensorShape([None, 1024])"
            ]
          },
          "metadata": {},
          "execution_count": 14
        }
      ],
      "source": [
        "x.shape"
      ]
    },
    {
      "cell_type": "code",
      "execution_count": 15,
      "metadata": {
        "id": "ytT-IT1u7uD5"
      },
      "outputs": [],
      "source": [
        "output = Dense(units=10,activation='softmax')(x)\n"
      ]
    },
    {
      "cell_type": "code",
      "execution_count": 16,
      "metadata": {
        "id": "5VDcNj9N7uD5"
      },
      "outputs": [],
      "source": [
        "model = Model(inputs=mobile.input,outputs=output)"
      ]
    },
    {
      "cell_type": "code",
      "execution_count": 17,
      "metadata": {
        "id": "vUKdbr6Z4Ew3",
        "colab": {
          "base_uri": "https://localhost:8080/"
        },
        "outputId": "6b6abb0e-bf6a-4f2d-c535-c30266f7c73f"
      },
      "outputs": [
        {
          "output_type": "stream",
          "name": "stdout",
          "text": [
            "89\n"
          ]
        }
      ],
      "source": [
        "print(len(model.layers))"
      ]
    },
    {
      "cell_type": "code",
      "execution_count": 18,
      "metadata": {
        "id": "FXYEblEE7uD6"
      },
      "outputs": [],
      "source": [
        "for layer in model.layers[:-24]:\n",
        "    layer.trainable =False"
      ]
    },
    {
      "cell_type": "code",
      "execution_count": 19,
      "metadata": {
        "id": "KUv4b__D7uD8",
        "colab": {
          "base_uri": "https://localhost:8080/"
        },
        "outputId": "23af136a-db8c-488e-ac7b-b6105a6cd60a"
      },
      "outputs": [
        {
          "output_type": "stream",
          "name": "stdout",
          "text": [
            "Model: \"model\"\n",
            "_________________________________________________________________\n",
            " Layer (type)                Output Shape              Param #   \n",
            "=================================================================\n",
            " input_1 (InputLayer)        [(None, 224, 224, 3)]     0         \n",
            "                                                                 \n",
            " conv1 (Conv2D)              (None, 112, 112, 32)      864       \n",
            "                                                                 \n",
            " conv1_bn (BatchNormalizati  (None, 112, 112, 32)      128       \n",
            " on)                                                             \n",
            "                                                                 \n",
            " conv1_relu (ReLU)           (None, 112, 112, 32)      0         \n",
            "                                                                 \n",
            " conv_dw_1 (DepthwiseConv2D  (None, 112, 112, 32)      288       \n",
            " )                                                               \n",
            "                                                                 \n",
            " conv_dw_1_bn (BatchNormali  (None, 112, 112, 32)      128       \n",
            " zation)                                                         \n",
            "                                                                 \n",
            " conv_dw_1_relu (ReLU)       (None, 112, 112, 32)      0         \n",
            "                                                                 \n",
            " conv_pw_1 (Conv2D)          (None, 112, 112, 64)      2048      \n",
            "                                                                 \n",
            " conv_pw_1_bn (BatchNormali  (None, 112, 112, 64)      256       \n",
            " zation)                                                         \n",
            "                                                                 \n",
            " conv_pw_1_relu (ReLU)       (None, 112, 112, 64)      0         \n",
            "                                                                 \n",
            " conv_pad_2 (ZeroPadding2D)  (None, 113, 113, 64)      0         \n",
            "                                                                 \n",
            " conv_dw_2 (DepthwiseConv2D  (None, 56, 56, 64)        576       \n",
            " )                                                               \n",
            "                                                                 \n",
            " conv_dw_2_bn (BatchNormali  (None, 56, 56, 64)        256       \n",
            " zation)                                                         \n",
            "                                                                 \n",
            " conv_dw_2_relu (ReLU)       (None, 56, 56, 64)        0         \n",
            "                                                                 \n",
            " conv_pw_2 (Conv2D)          (None, 56, 56, 128)       8192      \n",
            "                                                                 \n",
            " conv_pw_2_bn (BatchNormali  (None, 56, 56, 128)       512       \n",
            " zation)                                                         \n",
            "                                                                 \n",
            " conv_pw_2_relu (ReLU)       (None, 56, 56, 128)       0         \n",
            "                                                                 \n",
            " conv_dw_3 (DepthwiseConv2D  (None, 56, 56, 128)       1152      \n",
            " )                                                               \n",
            "                                                                 \n",
            " conv_dw_3_bn (BatchNormali  (None, 56, 56, 128)       512       \n",
            " zation)                                                         \n",
            "                                                                 \n",
            " conv_dw_3_relu (ReLU)       (None, 56, 56, 128)       0         \n",
            "                                                                 \n",
            " conv_pw_3 (Conv2D)          (None, 56, 56, 128)       16384     \n",
            "                                                                 \n",
            " conv_pw_3_bn (BatchNormali  (None, 56, 56, 128)       512       \n",
            " zation)                                                         \n",
            "                                                                 \n",
            " conv_pw_3_relu (ReLU)       (None, 56, 56, 128)       0         \n",
            "                                                                 \n",
            " conv_pad_4 (ZeroPadding2D)  (None, 57, 57, 128)       0         \n",
            "                                                                 \n",
            " conv_dw_4 (DepthwiseConv2D  (None, 28, 28, 128)       1152      \n",
            " )                                                               \n",
            "                                                                 \n",
            " conv_dw_4_bn (BatchNormali  (None, 28, 28, 128)       512       \n",
            " zation)                                                         \n",
            "                                                                 \n",
            " conv_dw_4_relu (ReLU)       (None, 28, 28, 128)       0         \n",
            "                                                                 \n",
            " conv_pw_4 (Conv2D)          (None, 28, 28, 256)       32768     \n",
            "                                                                 \n",
            " conv_pw_4_bn (BatchNormali  (None, 28, 28, 256)       1024      \n",
            " zation)                                                         \n",
            "                                                                 \n",
            " conv_pw_4_relu (ReLU)       (None, 28, 28, 256)       0         \n",
            "                                                                 \n",
            " conv_dw_5 (DepthwiseConv2D  (None, 28, 28, 256)       2304      \n",
            " )                                                               \n",
            "                                                                 \n",
            " conv_dw_5_bn (BatchNormali  (None, 28, 28, 256)       1024      \n",
            " zation)                                                         \n",
            "                                                                 \n",
            " conv_dw_5_relu (ReLU)       (None, 28, 28, 256)       0         \n",
            "                                                                 \n",
            " conv_pw_5 (Conv2D)          (None, 28, 28, 256)       65536     \n",
            "                                                                 \n",
            " conv_pw_5_bn (BatchNormali  (None, 28, 28, 256)       1024      \n",
            " zation)                                                         \n",
            "                                                                 \n",
            " conv_pw_5_relu (ReLU)       (None, 28, 28, 256)       0         \n",
            "                                                                 \n",
            " conv_pad_6 (ZeroPadding2D)  (None, 29, 29, 256)       0         \n",
            "                                                                 \n",
            " conv_dw_6 (DepthwiseConv2D  (None, 14, 14, 256)       2304      \n",
            " )                                                               \n",
            "                                                                 \n",
            " conv_dw_6_bn (BatchNormali  (None, 14, 14, 256)       1024      \n",
            " zation)                                                         \n",
            "                                                                 \n",
            " conv_dw_6_relu (ReLU)       (None, 14, 14, 256)       0         \n",
            "                                                                 \n",
            " conv_pw_6 (Conv2D)          (None, 14, 14, 512)       131072    \n",
            "                                                                 \n",
            " conv_pw_6_bn (BatchNormali  (None, 14, 14, 512)       2048      \n",
            " zation)                                                         \n",
            "                                                                 \n",
            " conv_pw_6_relu (ReLU)       (None, 14, 14, 512)       0         \n",
            "                                                                 \n",
            " conv_dw_7 (DepthwiseConv2D  (None, 14, 14, 512)       4608      \n",
            " )                                                               \n",
            "                                                                 \n",
            " conv_dw_7_bn (BatchNormali  (None, 14, 14, 512)       2048      \n",
            " zation)                                                         \n",
            "                                                                 \n",
            " conv_dw_7_relu (ReLU)       (None, 14, 14, 512)       0         \n",
            "                                                                 \n",
            " conv_pw_7 (Conv2D)          (None, 14, 14, 512)       262144    \n",
            "                                                                 \n",
            " conv_pw_7_bn (BatchNormali  (None, 14, 14, 512)       2048      \n",
            " zation)                                                         \n",
            "                                                                 \n",
            " conv_pw_7_relu (ReLU)       (None, 14, 14, 512)       0         \n",
            "                                                                 \n",
            " conv_dw_8 (DepthwiseConv2D  (None, 14, 14, 512)       4608      \n",
            " )                                                               \n",
            "                                                                 \n",
            " conv_dw_8_bn (BatchNormali  (None, 14, 14, 512)       2048      \n",
            " zation)                                                         \n",
            "                                                                 \n",
            " conv_dw_8_relu (ReLU)       (None, 14, 14, 512)       0         \n",
            "                                                                 \n",
            " conv_pw_8 (Conv2D)          (None, 14, 14, 512)       262144    \n",
            "                                                                 \n",
            " conv_pw_8_bn (BatchNormali  (None, 14, 14, 512)       2048      \n",
            " zation)                                                         \n",
            "                                                                 \n",
            " conv_pw_8_relu (ReLU)       (None, 14, 14, 512)       0         \n",
            "                                                                 \n",
            " conv_dw_9 (DepthwiseConv2D  (None, 14, 14, 512)       4608      \n",
            " )                                                               \n",
            "                                                                 \n",
            " conv_dw_9_bn (BatchNormali  (None, 14, 14, 512)       2048      \n",
            " zation)                                                         \n",
            "                                                                 \n",
            " conv_dw_9_relu (ReLU)       (None, 14, 14, 512)       0         \n",
            "                                                                 \n",
            " conv_pw_9 (Conv2D)          (None, 14, 14, 512)       262144    \n",
            "                                                                 \n",
            " conv_pw_9_bn (BatchNormali  (None, 14, 14, 512)       2048      \n",
            " zation)                                                         \n",
            "                                                                 \n",
            " conv_pw_9_relu (ReLU)       (None, 14, 14, 512)       0         \n",
            "                                                                 \n",
            " conv_dw_10 (DepthwiseConv2  (None, 14, 14, 512)       4608      \n",
            " D)                                                              \n",
            "                                                                 \n",
            " conv_dw_10_bn (BatchNormal  (None, 14, 14, 512)       2048      \n",
            " ization)                                                        \n",
            "                                                                 \n",
            " conv_dw_10_relu (ReLU)      (None, 14, 14, 512)       0         \n",
            "                                                                 \n",
            " conv_pw_10 (Conv2D)         (None, 14, 14, 512)       262144    \n",
            "                                                                 \n",
            " conv_pw_10_bn (BatchNormal  (None, 14, 14, 512)       2048      \n",
            " ization)                                                        \n",
            "                                                                 \n",
            " conv_pw_10_relu (ReLU)      (None, 14, 14, 512)       0         \n",
            "                                                                 \n",
            " conv_dw_11 (DepthwiseConv2  (None, 14, 14, 512)       4608      \n",
            " D)                                                              \n",
            "                                                                 \n",
            " conv_dw_11_bn (BatchNormal  (None, 14, 14, 512)       2048      \n",
            " ization)                                                        \n",
            "                                                                 \n",
            " conv_dw_11_relu (ReLU)      (None, 14, 14, 512)       0         \n",
            "                                                                 \n",
            " conv_pw_11 (Conv2D)         (None, 14, 14, 512)       262144    \n",
            "                                                                 \n",
            " conv_pw_11_bn (BatchNormal  (None, 14, 14, 512)       2048      \n",
            " ization)                                                        \n",
            "                                                                 \n",
            " conv_pw_11_relu (ReLU)      (None, 14, 14, 512)       0         \n",
            "                                                                 \n",
            " conv_pad_12 (ZeroPadding2D  (None, 15, 15, 512)       0         \n",
            " )                                                               \n",
            "                                                                 \n",
            " conv_dw_12 (DepthwiseConv2  (None, 7, 7, 512)         4608      \n",
            " D)                                                              \n",
            "                                                                 \n",
            " conv_dw_12_bn (BatchNormal  (None, 7, 7, 512)         2048      \n",
            " ization)                                                        \n",
            "                                                                 \n",
            " conv_dw_12_relu (ReLU)      (None, 7, 7, 512)         0         \n",
            "                                                                 \n",
            " conv_pw_12 (Conv2D)         (None, 7, 7, 1024)        524288    \n",
            "                                                                 \n",
            " conv_pw_12_bn (BatchNormal  (None, 7, 7, 1024)        4096      \n",
            " ization)                                                        \n",
            "                                                                 \n",
            " conv_pw_12_relu (ReLU)      (None, 7, 7, 1024)        0         \n",
            "                                                                 \n",
            " conv_dw_13 (DepthwiseConv2  (None, 7, 7, 1024)        9216      \n",
            " D)                                                              \n",
            "                                                                 \n",
            " conv_dw_13_bn (BatchNormal  (None, 7, 7, 1024)        4096      \n",
            " ization)                                                        \n",
            "                                                                 \n",
            " conv_dw_13_relu (ReLU)      (None, 7, 7, 1024)        0         \n",
            "                                                                 \n",
            " conv_pw_13 (Conv2D)         (None, 7, 7, 1024)        1048576   \n",
            "                                                                 \n",
            " conv_pw_13_bn (BatchNormal  (None, 7, 7, 1024)        4096      \n",
            " ization)                                                        \n",
            "                                                                 \n",
            " conv_pw_13_relu (ReLU)      (None, 7, 7, 1024)        0         \n",
            "                                                                 \n",
            " global_average_pooling2d (  (None, 1, 1, 1024)        0         \n",
            " GlobalAveragePooling2D)                                         \n",
            "                                                                 \n",
            " flatten (Flatten)           (None, 1024)              0         \n",
            "                                                                 \n",
            " dense (Dense)               (None, 10)                10250     \n",
            "                                                                 \n",
            "=================================================================\n",
            "Total params: 3239114 (12.36 MB)\n",
            "Trainable params: 1873930 (7.15 MB)\n",
            "Non-trainable params: 1365184 (5.21 MB)\n",
            "_________________________________________________________________\n"
          ]
        }
      ],
      "source": [
        "model.summary()"
      ]
    },
    {
      "cell_type": "code",
      "execution_count": 20,
      "metadata": {
        "id": "WsQbsF8r7uD9"
      },
      "outputs": [],
      "source": [
        "model.compile(optimizer = Adam(learning_rate=0.0001),loss='categorical_crossentropy',metrics=['accuracy'])"
      ]
    },
    {
      "cell_type": "code",
      "execution_count": 21,
      "metadata": {
        "id": "WlRXM6Lp7uD-",
        "colab": {
          "base_uri": "https://localhost:8080/"
        },
        "outputId": "9d7ac798-a96b-4130-edf2-b899a1834a89"
      },
      "outputs": [
        {
          "output_type": "stream",
          "name": "stdout",
          "text": [
            "Epoch 1/30\n",
            "172/172 - 25s - loss: 0.6163 - accuracy: 0.8283 - val_loss: 0.3663 - val_accuracy: 0.8667 - 25s/epoch - 148ms/step\n",
            "Epoch 2/30\n",
            "172/172 - 7s - loss: 0.1147 - accuracy: 0.9807 - val_loss: 0.1279 - val_accuracy: 0.9733 - 7s/epoch - 43ms/step\n",
            "Epoch 3/30\n",
            "172/172 - 6s - loss: 0.0562 - accuracy: 0.9930 - val_loss: 0.0798 - val_accuracy: 0.9800 - 6s/epoch - 36ms/step\n",
            "Epoch 4/30\n",
            "172/172 - 6s - loss: 0.0357 - accuracy: 0.9971 - val_loss: 0.0606 - val_accuracy: 0.9867 - 6s/epoch - 37ms/step\n",
            "Epoch 5/30\n",
            "172/172 - 7s - loss: 0.0220 - accuracy: 0.9982 - val_loss: 0.0535 - val_accuracy: 0.9867 - 7s/epoch - 40ms/step\n",
            "Epoch 6/30\n",
            "172/172 - 6s - loss: 0.0175 - accuracy: 0.9994 - val_loss: 0.0503 - val_accuracy: 0.9900 - 6s/epoch - 37ms/step\n",
            "Epoch 7/30\n",
            "172/172 - 7s - loss: 0.0111 - accuracy: 0.9994 - val_loss: 0.0403 - val_accuracy: 0.9867 - 7s/epoch - 40ms/step\n",
            "Epoch 8/30\n",
            "172/172 - 6s - loss: 0.0101 - accuracy: 0.9994 - val_loss: 0.0335 - val_accuracy: 0.9933 - 6s/epoch - 35ms/step\n",
            "Epoch 9/30\n",
            "172/172 - 7s - loss: 0.0072 - accuracy: 1.0000 - val_loss: 0.0339 - val_accuracy: 0.9933 - 7s/epoch - 41ms/step\n",
            "Epoch 10/30\n",
            "172/172 - 6s - loss: 0.0094 - accuracy: 0.9988 - val_loss: 0.0293 - val_accuracy: 0.9967 - 6s/epoch - 37ms/step\n",
            "Epoch 11/30\n",
            "172/172 - 7s - loss: 0.0052 - accuracy: 1.0000 - val_loss: 0.0271 - val_accuracy: 0.9933 - 7s/epoch - 41ms/step\n",
            "Epoch 12/30\n",
            "172/172 - 7s - loss: 0.0072 - accuracy: 0.9994 - val_loss: 0.0206 - val_accuracy: 0.9967 - 7s/epoch - 40ms/step\n",
            "Epoch 13/30\n",
            "172/172 - 8s - loss: 0.0107 - accuracy: 0.9971 - val_loss: 0.0346 - val_accuracy: 0.9867 - 8s/epoch - 44ms/step\n",
            "Epoch 14/30\n",
            "172/172 - 7s - loss: 0.0039 - accuracy: 1.0000 - val_loss: 0.0243 - val_accuracy: 0.9900 - 7s/epoch - 39ms/step\n",
            "Epoch 15/30\n",
            "172/172 - 6s - loss: 0.0029 - accuracy: 1.0000 - val_loss: 0.0231 - val_accuracy: 0.9900 - 6s/epoch - 36ms/step\n",
            "Epoch 16/30\n",
            "172/172 - 6s - loss: 0.0054 - accuracy: 0.9982 - val_loss: 0.0927 - val_accuracy: 0.9667 - 6s/epoch - 37ms/step\n",
            "Epoch 17/30\n",
            "172/172 - 7s - loss: 0.0085 - accuracy: 0.9988 - val_loss: 0.0290 - val_accuracy: 0.9900 - 7s/epoch - 41ms/step\n",
            "Epoch 18/30\n",
            "172/172 - 6s - loss: 0.0085 - accuracy: 0.9988 - val_loss: 0.0215 - val_accuracy: 0.9933 - 6s/epoch - 35ms/step\n",
            "Epoch 19/30\n",
            "172/172 - 7s - loss: 0.0023 - accuracy: 1.0000 - val_loss: 0.0190 - val_accuracy: 0.9900 - 7s/epoch - 40ms/step\n",
            "Epoch 20/30\n",
            "172/172 - 6s - loss: 0.0016 - accuracy: 1.0000 - val_loss: 0.0124 - val_accuracy: 0.9933 - 6s/epoch - 37ms/step\n",
            "Epoch 21/30\n",
            "172/172 - 7s - loss: 0.0079 - accuracy: 0.9988 - val_loss: 0.0232 - val_accuracy: 0.9900 - 7s/epoch - 40ms/step\n",
            "Epoch 22/30\n",
            "172/172 - 7s - loss: 0.0041 - accuracy: 1.0000 - val_loss: 0.0142 - val_accuracy: 0.9967 - 7s/epoch - 40ms/step\n",
            "Epoch 23/30\n",
            "172/172 - 6s - loss: 0.0021 - accuracy: 1.0000 - val_loss: 0.0153 - val_accuracy: 0.9967 - 6s/epoch - 36ms/step\n",
            "Epoch 24/30\n",
            "172/172 - 7s - loss: 0.0020 - accuracy: 1.0000 - val_loss: 0.0097 - val_accuracy: 1.0000 - 7s/epoch - 41ms/step\n",
            "Epoch 25/30\n",
            "172/172 - 7s - loss: 0.0013 - accuracy: 1.0000 - val_loss: 0.0085 - val_accuracy: 1.0000 - 7s/epoch - 41ms/step\n",
            "Epoch 26/30\n",
            "172/172 - 6s - loss: 0.0012 - accuracy: 1.0000 - val_loss: 0.0170 - val_accuracy: 0.9933 - 6s/epoch - 35ms/step\n",
            "Epoch 27/30\n",
            "172/172 - 7s - loss: 0.0078 - accuracy: 0.9977 - val_loss: 0.2180 - val_accuracy: 0.9267 - 7s/epoch - 39ms/step\n",
            "Epoch 28/30\n",
            "172/172 - 7s - loss: 0.0127 - accuracy: 0.9977 - val_loss: 0.0221 - val_accuracy: 0.9900 - 7s/epoch - 43ms/step\n",
            "Epoch 29/30\n",
            "172/172 - 6s - loss: 0.0108 - accuracy: 0.9971 - val_loss: 0.0233 - val_accuracy: 0.9867 - 6s/epoch - 35ms/step\n",
            "Epoch 30/30\n",
            "172/172 - 6s - loss: 0.0022 - accuracy: 1.0000 - val_loss: 0.0142 - val_accuracy: 0.9967 - 6s/epoch - 36ms/step\n"
          ]
        },
        {
          "output_type": "execute_result",
          "data": {
            "text/plain": [
              "<keras.src.callbacks.History at 0x7e8a0813beb0>"
            ]
          },
          "metadata": {},
          "execution_count": 21
        }
      ],
      "source": [
        "model.fit(x=train_batches,\n",
        "          steps_per_epoch=len(train_batches),\n",
        "          validation_data=valid_batches,\n",
        "          validation_steps=len(valid_batches),\n",
        "          epochs=30,\n",
        "          verbose=2)"
      ]
    },
    {
      "cell_type": "code",
      "execution_count": 22,
      "metadata": {
        "id": "tPTG4PhM7uD_"
      },
      "outputs": [],
      "source": [
        "test_labels = test_batches.classes"
      ]
    },
    {
      "cell_type": "code",
      "execution_count": 23,
      "metadata": {
        "id": "7FVfduZ87uEA"
      },
      "outputs": [],
      "source": [
        "predictions = model.predict(x=test_batches,steps=len(test_batches),verbose=0)"
      ]
    },
    {
      "cell_type": "code",
      "execution_count": 24,
      "metadata": {
        "id": "PrQWlxmd7uEG",
        "colab": {
          "base_uri": "https://localhost:8080/"
        },
        "outputId": "0f1a6a36-bb6c-42b2-936f-3533b2d45668"
      },
      "outputs": [
        {
          "output_type": "execute_result",
          "data": {
            "text/plain": [
              "array([[5, 0, 0, 0, 0, 0, 0, 0, 0, 0],\n",
              "       [0, 5, 0, 0, 0, 0, 0, 0, 0, 0],\n",
              "       [0, 0, 5, 0, 0, 0, 0, 0, 0, 0],\n",
              "       [0, 0, 0, 5, 0, 0, 0, 0, 0, 0],\n",
              "       [0, 0, 0, 0, 5, 0, 0, 0, 0, 0],\n",
              "       [0, 0, 0, 0, 0, 5, 0, 0, 0, 0],\n",
              "       [0, 0, 0, 0, 0, 0, 5, 0, 0, 0],\n",
              "       [0, 0, 0, 0, 0, 0, 0, 5, 0, 0],\n",
              "       [0, 0, 0, 0, 0, 0, 0, 0, 5, 0],\n",
              "       [0, 0, 0, 0, 0, 0, 0, 0, 0, 5]])"
            ]
          },
          "metadata": {},
          "execution_count": 24
        }
      ],
      "source": [
        "cm = confusion_matrix(y_true=test_labels,y_pred=predictions.argmax(axis=1))\n",
        "cm"
      ]
    },
    {
      "cell_type": "code",
      "execution_count": 28,
      "metadata": {
        "id": "-M8YZVlK7uEH"
      },
      "outputs": [],
      "source": [
        "def plot_confusion_matrix(cm,classes,normalize= False,title='Confusion matrix',cmap=plt.cm.Blues):\n",
        "    plt.imshow(cm,interpolation='nearest',cmap=cmap)\n",
        "    plt.title(title)\n",
        "    plt.colorbar()\n",
        "    tick_marks = np.arange(len(classes))\n",
        "    plt.xticks(tick_marks,classes,rotation=45)\n",
        "    plt.yticks(tick_marks,classes)\n",
        "    if normalize:\n",
        "        cm = cm.astype('float')/cm.sum(axos=1)[:,np.newaxis]\n",
        "        print(\"Normalized confusion matrix\")\n",
        "    else:\n",
        "        print('Confusion matrix,without normalization')\n",
        "    print(cm)\n",
        "    thresh = cm.max()/2\n",
        "    for i,j in itertools.product(range(cm.shape[0]),range(cm.shape[1])):\n",
        "        plt.text(j,i,cm[i,j],\n",
        "                 horizontalalignment='center',\n",
        "                 color='white' if cm[i,j] > thresh else 'black')\n",
        "        plt.tight_layout()\n",
        "        plt.ylabel('True label')\n",
        "        plt.xlabel('Predicted label')\n"
      ]
    },
    {
      "cell_type": "code",
      "execution_count": 29,
      "metadata": {
        "id": "L5K68Lz-7uEH",
        "colab": {
          "base_uri": "https://localhost:8080/"
        },
        "outputId": "a28b868b-49a4-4c55-f571-5abe85e70d2b"
      },
      "outputs": [
        {
          "output_type": "execute_result",
          "data": {
            "text/plain": [
              "{'0': 0,\n",
              " '1': 1,\n",
              " '2': 2,\n",
              " '3': 3,\n",
              " '4': 4,\n",
              " '5': 5,\n",
              " '6': 6,\n",
              " '7': 7,\n",
              " '8': 8,\n",
              " '9': 9}"
            ]
          },
          "metadata": {},
          "execution_count": 29
        }
      ],
      "source": [
        "test_batches.class_indices"
      ]
    },
    {
      "cell_type": "code",
      "execution_count": 30,
      "metadata": {
        "id": "9Hwzegpp7uEH",
        "colab": {
          "base_uri": "https://localhost:8080/",
          "height": 688
        },
        "outputId": "8f2a713a-7dc4-485b-eebb-d119345b2602"
      },
      "outputs": [
        {
          "output_type": "stream",
          "name": "stdout",
          "text": [
            "Confusion matrix,without normalization\n",
            "[[5 0 0 0 0 0 0 0 0 0]\n",
            " [0 5 0 0 0 0 0 0 0 0]\n",
            " [0 0 5 0 0 0 0 0 0 0]\n",
            " [0 0 0 5 0 0 0 0 0 0]\n",
            " [0 0 0 0 5 0 0 0 0 0]\n",
            " [0 0 0 0 0 5 0 0 0 0]\n",
            " [0 0 0 0 0 0 5 0 0 0]\n",
            " [0 0 0 0 0 0 0 5 0 0]\n",
            " [0 0 0 0 0 0 0 0 5 0]\n",
            " [0 0 0 0 0 0 0 0 0 5]]\n"
          ]
        },
        {
          "output_type": "display_data",
          "data": {
            "text/plain": [
              "<Figure size 640x480 with 2 Axes>"
            ],
            "image/png": "[encoded data removed]"
          },
          "metadata": {}
        }
      ],
      "source": [
        "cm_plot_labels = ['0','1','2','3','4','5','6','7','8','9']\n",
        "plot_confusion_matrix(cm=cm,classes=cm_plot_labels,title='Confusion Matrix')"
      ]
    },
    {
      "cell_type": "code",
      "execution_count": null,
      "metadata": {
        "id": "3g6e0MnThBLq"
      },
      "outputs": [],
      "source": []
    }
  ],
  "metadata": {
    "accelerator": "GPU",
    "colab": {
      "provenance": [],
      "gpuType": "T4"
    },
    "kernelspec": {
      "display_name": "Python 3",
      "name": "python3"
    },
    "language_info": {
      "codemirror_mode": {
        "name": "ipython",
        "version": 3
      },
      "file_extension": ".py",
      "mimetype": "text/x-python",
      "name": "python",
      "nbconvert_exporter": "python",
      "pygments_lexer": "ipython3",
      "version": "3.10.9"
    }
  },
  "nbformat": 4,
  "nbformat_minor": 0
}